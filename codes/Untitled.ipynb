{
 "cells": [
  {
   "cell_type": "code",
   "execution_count": 1,
   "id": "ecb69b5b",
   "metadata": {},
   "outputs": [
    {
     "data": {
      "text/plain": [
       "(-4.35, 3.35, -5.1, -2.9)"
      ]
     },
     "execution_count": 1,
     "metadata": {},
     "output_type": "execute_result"
    },
    {
     "data": {
      "image/png": "[encoded data removed]",
      "text/plain": [
       "<Figure size 640x480 with 1 Axes>"
      ]
     },
     "metadata": {},
     "output_type": "display_data"
    }
   ],
   "source": [
    "# -*- coding: utf-8 -*-\n",
    "\"\"\"\n",
    "Created on Wed Aug 23 12:32:37 2023\n",
    "\n",
    "@author: YASWANTH\n",
    "\"\"\"\n",
    "\n",
    "import numpy as np \n",
    "import matplotlib.pyplot as plt \n",
    "from numpy import linalg as LA \n",
    "import math\n",
    "\n",
    "A = np.array(([-3, -5])) \n",
    "B = np.array(([3, -5]))\n",
    "C = np.array(([-4, -3]))\n",
    "#D = np.array(([-0.5, -4])) \n",
    "#E = np.array(([-3.5, -4]))\n",
    "#F = np.array(([0, -5]))\n",
    "\n",
    "\n",
    "def line_gen(A,B):\n",
    "   len =2\n",
    "   dim = A.shape[0]\n",
    "   x_AB = np.zeros((dim,len))\n",
    "   lam_1 = np.linspace(0,1,len)\n",
    "   for i in range(len):\n",
    "     temp1 = A + lam_1[i]*(B-A)\n",
    "     x_AB[:,i]= temp1.T\n",
    "   return x_AB\n",
    "\n",
    "#Generating all lines\n",
    "x_AB = line_gen(A,B)\n",
    "x_BC = line_gen(B,C)\n",
    "x_CA = line_gen(C,A)\n",
    "#x_AD = line_gen(A,D)\n",
    "#x_BE = line_gen(B,E)\n",
    "#x_CF = line_gen(C,F)\n",
    "\n",
    "#Plotting all lines\n",
    "plt.plot(x_AB[0,:],x_AB[1,:],label='AB')\n",
    "plt.plot(x_BC[0,:],x_BC[1,:],label='BC')\n",
    "plt.plot(x_CA[0,:],x_CA[1,:],label='CA')\n",
    "#plt.plot(x_AD[0,:],x_AD[1,:],label='AD')\n",
    "#plt.plot(x_BE[0,:],x_BE[1,:],label='BE')\n",
    "#plt.plot(x_CF[0,:],x_CF[1,:],label='CF')\n",
    "\n",
    "#plt.plot(-0.5, -4, 'bo')\n",
    "#plt.plot(-3.5, -4, 'bo')\n",
    "#plt.plot(0, -5, 'bo')\n",
    "#plt.plot(-4/3, -13/3, 'bo')\n",
    "\n",
    "plt.text(-3.3, -5, 'A')\n",
    "plt.text(3.2, -5, 'B')\n",
    "plt.text(-4, -2.8, 'C')\n",
    "#plt.text(-0.5, -4.3, 'D')\n",
    "#plt.text(-3.8, -4, 'E')\n",
    "#plt.text(0, -5.3, 'F')\n",
    "#plt.text(-4/3, -13/3-0.3, 'G')\n",
    "\n",
    "\n",
    "#Labeling the coordinates\n",
    "tri_coords = np.vstack((A,B,C)).T\n",
    "plt.scatter(tri_coords[0,:], tri_coords[1,:])\n",
    "\n",
    "plt.xlabel('$X-Axis$')\n",
    "plt.ylabel('$Y-axis$')\n",
    "plt.legend(loc='best')\n",
    "#plt.grid() # minor\n",
    "plt.axis('equal')\n",
    "#plt.title('Triangle ABC',size=10)\n",
    "#if using termux\n",
    "#plt.savefig('/sdcard/Download/Assignment/Vector-algebra/12.10.5.17/codes/Python/figs/fig')\n",
    "#plt.show()"
   ]
  },
  {
   "cell_type": "code",
   "execution_count": null,
   "id": "46190a2c",
   "metadata": {},
   "outputs": [],
   "source": []
  },
  {
   "cell_type": "code",
   "execution_count": 14,
   "id": "76b75e84",
   "metadata": {},
   "outputs": [
    {
     "name": "stdout",
     "output_type": "stream",
     "text": [
      "[-3 -5]\n",
      "[ 3 -5]\n",
      "[-4 -3]\n"
     ]
    }
   ],
   "source": [
    "import numpy as np\n",
    "simlen=2\n",
    "y = np.random.randint(-6,6, size=(3, simlen))\n",
    "A=y[0]\n",
    "B=y[1]\n",
    "C=y[2]\n",
    "print(A)\n",
    "print(B)\n",
    "print(C)"
   ]
  },
  {
   "cell_type": "code",
   "execution_count": null,
   "id": "e6e2e3c0",
   "metadata": {},
   "outputs": [],
   "source": []
  },
  {
   "cell_type": "code",
   "execution_count": null,
   "id": "5bf5404f",
   "metadata": {},
   "outputs": [],
   "source": []
  }
 ],
 "metadata": {
  "kernelspec": {
   "display_name": "Python 3 (ipykernel)",
   "language": "python",
   "name": "python3"
  },
  "language_info": {
   "codemirror_mode": {
    "name": "ipython",
    "version": 3
   },
   "file_extension": ".py",
   "mimetype": "text/x-python",
   "name": "python",
   "nbconvert_exporter": "python",
   "pygments_lexer": "ipython3",
   "version": "3.10.9"
  }
 },
 "nbformat": 4,
 "nbformat_minor": 5
}
